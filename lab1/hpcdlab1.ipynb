{
 "cells": [
  {
   "cell_type": "code",
   "execution_count": 1,
   "metadata": {
    "colab": {
     "base_uri": "https://localhost:8080/",
     "height": 733
    },
    "id": "X5O1SiORDY13",
    "outputId": "858814e8-5214-4944-ed4c-1fc1470910c6"
   },
   "outputs": [],
   "source": [
    "# uncomment code below for running in google colab\n",
    "# !pip install ipython==7.7.0"
   ]
  },
  {
   "cell_type": "code",
   "execution_count": 2,
   "metadata": {
    "id": "JDhMD5AR0_yb"
   },
   "outputs": [],
   "source": [
    "import random"
   ]
  },
  {
   "cell_type": "markdown",
   "metadata": {
    "id": "gaz9b7iCzZw3"
   },
   "source": [
    "Измерение времени работы с помощью магической комманды timeit"
   ]
  },
  {
   "cell_type": "code",
   "execution_count": 8,
   "metadata": {
    "colab": {
     "base_uri": "https://localhost:8080/"
    },
    "id": "0OMnoGDczcQk",
    "outputId": "9e3a58ef-9509-47f5-ba13-eab18917f538"
   },
   "outputs": [
    {
     "name": "stdout",
     "output_type": "stream",
     "text": [
      "[1, 2, 3, 4, 5, 6, 7, 8, 9, 10, 11, 12, 13, 14]\n",
      "[1, 2, 3, 4, 5, 6, 7, 8, 9, 10, 11, 12, 13, 14]\n",
      "[1, 2, 3, 4, 5, 6, 7, 8, 9, 10, 11, 12, 13, 14]\n",
      "[1, 2, 3, 4, 5, 6, 7, 8, 9, 10, 11, 12, 13, 14]\n",
      "[1, 2, 3, 4, 5, 6, 7, 8, 9, 10, 11, 12, 13, 14]\n",
      "[1, 2, 3, 4, 5, 6, 7, 8, 9, 10, 11, 12, 13, 14]\n",
      "[1, 2, 3, 4, 5, 6, 7, 8, 9, 10, 11, 12, 13, 14]\n",
      "[1, 2, 3, 4, 5, 6, 7, 8, 9, 10, 11, 12, 13, 14]\n",
      "[1, 2, 3, 4, 5, 6, 7, 8, 9, 10, 11, 12, 13, 14]\n",
      "The slowest run took 4.80 times longer than the fastest. This could mean that an intermediate result is being cached.\n",
      "193 µs ± 96.6 µs per loop (mean ± std. dev. of 3 runs, 3 loops each)\n"
     ]
    }
   ],
   "source": [
    "%%timeit -r3 -n3\n",
    "data = [i for i in range(1, 15)]\n",
    "print(data)"
   ]
  },
  {
   "cell_type": "markdown",
   "metadata": {
    "id": "M2hvGsJJ0juf"
   },
   "source": [
    "Пример собственного генератора данных. Генерация списка с случайными значениями"
   ]
  },
  {
   "cell_type": "code",
   "execution_count": 11,
   "metadata": {
    "colab": {
     "base_uri": "https://localhost:8080/"
    },
    "id": "H6LaO4TS0INe",
    "outputId": "1f60aceb-d200-434b-f11f-1f23dc36e130"
   },
   "outputs": [
    {
     "name": "stdout",
     "output_type": "stream",
     "text": [
      "[0.4, 0.2, 0.6, 0.6, 0.5, 0.1, 0.5, 0.9, 0.7, 0.0, 0.5, 0.5, 0.5, 0.1, 1.0, 0.7, 0.6, 0.5, 0.6, 0.1]\n",
      "[0.1, 0.9, 0.8, 0.2, 0.2, 0.1, 0.7, 0.9, 0.6, 0.9, 0.4, 0.1, 0.2, 0.4, 1.0, 1.0, 0.4, 0.2, 0.5, 0.8]\n",
      "[0.9, 0.2, 0.7, 0.8, 0.7, 0.3, 0.7, 0.5, 0.9, 0.6, 0.2, 0.4, 0.8, 0.1, 0.6, 0.1, 0.7, 0.2, 0.6, 0.4]\n",
      "[0.1, 0.0, 0.0, 0.4, 0.3, 0.7, 0.6, 0.7, 0.5, 0.2, 0.4, 0.1, 0.4, 1.0, 0.8, 0.9, 0.2, 0.6, 0.2, 0.3]\n",
      "[0.3, 0.6, 0.9, 0.5, 1.0, 0.2, 0.2, 0.6, 0.3, 0.5, 0.5, 0.7, 0.7, 1.0, 0.8, 0.9, 0.2, 0.1, 0.2, 0.6]\n",
      "[0.8, 0.6, 0.6, 0.6, 0.3, 0.0, 0.1, 0.3, 0.5, 0.5, 0.7, 0.5, 0.1, 0.2, 0.6, 0.2, 0.0, 0.7, 0.6, 1.0]\n",
      "[0.4, 0.1, 0.7, 0.2, 0.6, 0.9, 0.1, 0.9, 0.7, 0.8, 0.8, 0.7, 0.9, 0.7, 0.9, 0.5, 1.0, 0.4, 0.8, 0.3]\n",
      "[0.1, 0.3, 0.4, 0.7, 0.1, 0.2, 0.5, 0.2, 0.3, 0.0, 0.8, 0.2, 0.9, 0.7, 0.5, 0.4, 0.8, 0.5, 0.9, 0.5]\n",
      "[0.2, 0.4, 0.5, 0.3, 0.6, 0.3, 0.1, 0.3, 0.9, 0.3, 0.8, 0.9, 0.2, 0.6, 0.9, 0.3, 0.5, 1.0, 0.5, 0.5]\n",
      "The slowest run took 11.22 times longer than the fastest. This could mean that an intermediate result is being cached.\n",
      "402 µs ± 393 µs per loop (mean ± std. dev. of 3 runs, 3 loops each)\n"
     ]
    }
   ],
   "source": [
    "%%timeit -r3 -n3\n",
    "data = [round(random.random(), 1) for _ in range(20)]\n",
    "print(data)"
   ]
  },
  {
   "cell_type": "markdown",
   "metadata": {
    "id": "e95clqRfEWC6"
   },
   "source": [
    "Создание переменных разных типов данных. Разными способами"
   ]
  },
  {
   "cell_type": "code",
   "execution_count": 12,
   "metadata": {
    "colab": {
     "base_uri": "https://localhost:8080/"
    },
    "id": "pBZqTNeY1kA2",
    "outputId": "d8b6ab62-9ad0-44ff-f7fa-9c2fcfb2cf62"
   },
   "outputs": [
    {
     "name": "stdout",
     "output_type": "stream",
     "text": [
      "182 ns ± 80.7 ns per loop (mean ± std. dev. of 5 runs, 10 loops each)\n",
      "54.3 ns ± 20.6 ns per loop (mean ± std. dev. of 5 runs, 10 loops each)\n",
      "170 ns ± 42.1 ns per loop (mean ± std. dev. of 5 runs, 10 loops each)\n",
      "84.6 ns ± 20.3 ns per loop (mean ± std. dev. of 5 runs, 10 loops each)\n",
      "104 ns ± 29.1 ns per loop (mean ± std. dev. of 5 runs, 10 loops each)\n",
      "35.9 ns ± 13.4 ns per loop (mean ± std. dev. of 5 runs, 10 loops each)\n"
     ]
    }
   ],
   "source": [
    "list_time_by_type = %timeit -o -r5 -n10 list_by_type = list()\n",
    "list_time_by_brackets = %timeit -o -r5 -n10 list_by_brackets = []\n",
    "dict_time_by_type = %timeit -o -r5 -n10 dict_by_type = dict()\n",
    "dict_time_by_brackets = %timeit -o -r5 -n10 dict_by_brackets = {}\n",
    "tuple_time_by_type = %timeit -o -r5 -n10 tuple()\n",
    "tuple_time_by_brackets = %timeit -o -r5 -n10 ()"
   ]
  },
  {
   "cell_type": "markdown",
   "metadata": {
    "id": "GBaebp3xFXW_"
   },
   "source": [
    "Сравнение результатов и вывод"
   ]
  },
  {
   "cell_type": "code",
   "execution_count": 13,
   "metadata": {
    "colab": {
     "base_uri": "https://localhost:8080/"
    },
    "id": "GH6bcZ2FEkXh",
    "outputId": "c8b92adc-6139-4689-86be-0a04e770ed2c"
   },
   "outputs": [
    {
     "name": "stdout",
     "output_type": "stream",
     "text": [
      "Литеральный список производительнее в 3.3470724810000485 раз\n",
      "Литеральный словарь производительнее в 2.008270787242403 раз\n",
      "Литеральный кортеж производительнее в 2.8831353399897974 раз\n"
     ]
    }
   ],
   "source": [
    "list_time_diff = list_time_by_type.average / list_time_by_brackets.average\n",
    "dict_time_diff = dict_time_by_type.average / dict_time_by_brackets.average\n",
    "tuple_time_diff = tuple_time_by_type.average / tuple_time_by_brackets.average\n",
    "print(f\"Литеральный список производительнее в {list_time_diff} раз\")\n",
    "print(f\"Литеральный словарь производительнее в {dict_time_diff} раз\")\n",
    "print(f\"Литеральный кортеж производительнее в {tuple_time_diff} раз\")"
   ]
  },
  {
   "cell_type": "code",
   "execution_count": null,
   "metadata": {
    "id": "MZAYbnfyGHlI"
   },
   "outputs": [],
   "source": []
  }
 ],
 "metadata": {
  "colab": {
   "name": "hpcdlab2.ipynb",
   "provenance": []
  },
  "kernelspec": {
   "display_name": "Python 3",
   "language": "python",
   "name": "python3"
  },
  "language_info": {
   "codemirror_mode": {
    "name": "ipython",
    "version": 3
   },
   "file_extension": ".py",
   "mimetype": "text/x-python",
   "name": "python",
   "nbconvert_exporter": "python",
   "pygments_lexer": "ipython3",
   "version": "3.6.9"
  }
 },
 "nbformat": 4,
 "nbformat_minor": 1
}
